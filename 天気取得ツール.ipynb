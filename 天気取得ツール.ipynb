{
 "cells": [
  {
   "cell_type": "markdown",
   "metadata": {},
   "source": [
    "## Yahoo天気から過去の天気データをダウンロードする\n",
    "\n",
    "https://weather.yahoo.co.jp/weather/jp/past/"
   ]
  },
  {
   "cell_type": "code",
   "execution_count": 207,
   "metadata": {
    "collapsed": true
   },
   "outputs": [],
   "source": [
    "from bs4 import BeautifulSoup as BS\n",
    "import requests   \n",
    "\n",
    "class WeatherScraper:\n",
    "    \n",
    "    url = \"https://weather.yahoo.co.jp/weather/jp/past/\"\n",
    "    date = None\n",
    "    weather = {}\n",
    "    \n",
    "    def get_weather(self, target_pref, target_zone, date):\n",
    "        \"\"\"\n",
    "        Return place's weather of date\n",
    "\n",
    "        input 対象都道府県\n",
    "        input 対象地域\n",
    "        input 日付\n",
    "        \"\"\"\n",
    "        self.date = date\n",
    "        self.weather.update({\"date\" : self.date})\n",
    "        # get list of prefecture\n",
    "        preflist = self.get_prefs()\n",
    "        for pref in preflist:\n",
    "            for section in pref.find_all(\"dd\"):\n",
    "                if section.find(\"a\").get_text().strip() == target_pref:\n",
    "                    next_url = self.url + section.find(\"a\").get(\"href\")\n",
    "                    self.get_zone(target_zone, next_url)\n",
    "                    self.get_detail_weather()\n",
    "                    break\n",
    "                \n",
    "        return self.weather\n",
    "    \n",
    "    def get_zone(self, target_zone, next_url):\n",
    "        html = requests.get(next_url)\n",
    "        html.encoding = html.apparent_encoding\n",
    "        soup = BS(html.text, \"lxml\")\n",
    "        zonelst = soup.find(id = \"zonelst\")\n",
    "        # 地域ごとに処理を行う\n",
    "        for zone in zonelst.find_all(\"li\"):\n",
    "            if target_zone in zone.get_text().strip():\n",
    "                self.url = \"https://weather.yahoo.co.jp\" +zone.find(\"a\").get(\"href\")\n",
    "                return\n",
    "    \n",
    "    def get_detail_weather(self):\n",
    "        # zoneのurlと日付から天気データを取得\n",
    "        year, month, date = self.date.split(\"-\")\n",
    "        self.url = self.url.replace(\".html\", \"/detail.html?c={}&m={}&d={}\".format(year, month, date))\n",
    "        html = requests.get(self.url)\n",
    "        html.encoding = html.apparent_encoding\n",
    "        soup = BS(html.text, \"lxml\")\n",
    "        \n",
    "        # 天気情報の入ったtableを取得\n",
    "        table = soup.find(\"table\", class_=\"yjw_table\", id = None)\n",
    "        for trs in table.find_all(\"tr\"):\n",
    "            tds = trs.find_all(\"td\")\n",
    "            \n",
    "            # リストが結合されている場合に対処\n",
    "            if len(tds) == 2:\n",
    "                attr = tds[0].get_text()\n",
    "                data = tds[1].get_text()\n",
    "            elif len(tds) == 3:\n",
    "                attr = tds[1].get_text()\n",
    "                data = tds[2].get_text()\n",
    "            self.weather.update({attr : data})\n",
    "        return\n",
    "    \n",
    "    def print_preflist(self):\n",
    "        \"\"\"\n",
    "        データが取得可能な地域の一覧をprintする\n",
    "        \"\"\"\n",
    "        preflist = self.get_prefs()\n",
    "        print(\"Belows are places where you can get data.\")\n",
    "        for pref in preflist:\n",
    "            print(pref.find(\"dt\").text) # 都道府県をprint\n",
    "            for section in pref.find_all(\"dd\"):\n",
    "                print(\"\\t\", section.find(\"a\").get_text())# 地域をprint\n",
    "        print(\"------EOL------\")\n",
    "        return\n",
    "    \n",
    "    def get_prefs(self):\n",
    "        \"\"\"\n",
    "        県の一覧を取得\n",
    "        \"\"\"\n",
    "       \n",
    "        html = requests.get(self.url)\n",
    "        html.encoding = html.apparent_encoding\n",
    "        soup = BS(html.text, \"lxml\")\n",
    "        preflst = soup.find_all(id = \"preflst\")\n",
    "        dls = preflst[0].find_all(\"dl\")\n",
    "        return dls"
   ]
  },
  {
   "cell_type": "code",
   "execution_count": 208,
   "metadata": {},
   "outputs": [
    {
     "data": {
      "text/plain": [
       "{'date': '2017-7-2',\n",
       " '天気': '晴れ',\n",
       " '日の入り': '19:01',\n",
       " '日の出': '4:29',\n",
       " '最低気温': '20.9℃',\n",
       " '最高気温': '31.9℃',\n",
       " '海面気圧': '1007.9hPa',\n",
       " '湿度': '56％',\n",
       " '現地気圧': '1005.2hPa',\n",
       " '積雪深': '---',\n",
       " '降水量': '0.0mm',\n",
       " '露点温度': '21.1℃',\n",
       " '風向': '南南東',\n",
       " '風速': '3m/s'}"
      ]
     },
     "execution_count": 208,
     "metadata": {},
     "output_type": "execute_result"
    }
   ],
   "source": [
    "ws = WeatherScraper()\n",
    "ws.get_weather(\"東京\", \"東京\", \"2017-7-2\")"
   ]
  },
  {
   "cell_type": "code",
   "execution_count": null,
   "metadata": {
    "collapsed": true
   },
   "outputs": [],
   "source": []
  }
 ],
 "metadata": {
  "kernelspec": {
   "display_name": "Python [conda root]",
   "language": "python",
   "name": "conda-root-py"
  },
  "language_info": {
   "codemirror_mode": {
    "name": "ipython",
    "version": 3
   },
   "file_extension": ".py",
   "mimetype": "text/x-python",
   "name": "python",
   "nbconvert_exporter": "python",
   "pygments_lexer": "ipython3",
   "version": "3.5.3"
  }
 },
 "nbformat": 4,
 "nbformat_minor": 2
}
